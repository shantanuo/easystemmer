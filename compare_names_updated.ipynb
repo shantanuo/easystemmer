{
 "cells": [
  {
   "cell_type": "code",
   "execution_count": 1,
   "metadata": {},
   "outputs": [],
   "source": [
    "import pandas as pd\n",
    "import numpy as np\n",
    "import itertools, re\n",
    "from nltk.stem import StemmerI\n",
    "from nltk.metrics import edit_distance"
   ]
  },
  {
   "cell_type": "code",
   "execution_count": 2,
   "metadata": {},
   "outputs": [],
   "source": [
    "class IndianNameStemmer(StemmerI):\n",
    "    def stem(self, token):\n",
    "        newtup=list()\n",
    "        for i in token:\n",
    "            i = re.sub(r'\\([^)]*\\)', '', i).strip()\n",
    "            i = re.sub(r'\\[[^)]*\\]', '', i).strip()\n",
    "            i = re.sub(r'(^\\w{2,3}\\. ?)', r'', i)\n",
    "            i = i.split('.')[0]\n",
    "            i = i.split('-')[0]\n",
    "            i = re.sub(r'[^a-zA-Z]', '', i)\n",
    "            i = re.sub(r'(\\w)\\1+',r'\\1', i)\n",
    "            i = i[:-2] if i.endswith(('bi', 'ji', 'so')) else i            \n",
    "            i = i[:-3] if i.endswith(('bai', 'ben', 'beg', 'tai', 'sab', 'rao', 'rav', 'kha', 'lal', 'dev', 'deo')) else i\n",
    "            i = i[:-4] if i.endswith(('bhai', 'bhau', 'sing', 'devi')) else i\n",
    "            i = i[:-5] if i.endswith(('saheb', 'singh' , 'shing', 'kumar')) else i\n",
    "            for r in ((\"tha\", \"ta\"), (\"krish\", \"krush\"), (\"gi\", \"ji\"), (\"bh\", \"b\"),  (\"yu\", \"u\"), (\"gh\", \"g\"),  \n",
    "                      (\"bh\",\"b\"), (\"ph\",\"f\"),  (\"gaw\", \"gaon\"), (\"ksh\", \"x\"), \n",
    "                      (\"dh\", \"d\"), (\"sh\", \"s\") ):\n",
    "                # (\"g\",\"j\"), (\"o\", \"u\"), (\"i\", \"e\"), (\"m\", \"n\"),  (\"y\", \"i\"), (\"v\", \"w\"), (\"z\",\"j\"),, (\"a\",\"\")\n",
    "                i = i.replace(*r)\n",
    "\n",
    "            newtup.append(''.join(i for i, _ in itertools.groupby(i)))\n",
    "        return tuple(newtup)\n"
   ]
  },
  {
   "cell_type": "code",
   "execution_count": 3,
   "metadata": {},
   "outputs": [
    {
     "data": {
      "text/plain": [
       "('abar', 'bim')"
      ]
     },
     "execution_count": 3,
     "metadata": {},
     "output_type": "execute_result"
    }
   ],
   "source": [
    "s = IndianNameStemmer()\n",
    "s.stem([ 'abbar', 'bhimrav'])\n"
   ]
  },
  {
   "cell_type": "code",
   "execution_count": 4,
   "metadata": {},
   "outputs": [],
   "source": [
    "df=pd.read_excel('correct.xlsx')\n",
    "df.columns=['wrong', 'correct']"
   ]
  },
  {
   "cell_type": "code",
   "execution_count": null,
   "metadata": {},
   "outputs": [],
   "source": []
  },
  {
   "cell_type": "code",
   "execution_count": 5,
   "metadata": {},
   "outputs": [],
   "source": [
    "df['updated']=df['wrong'].astype(str).apply(lambda x: x.split('/')).apply(s.stem)\n",
    "df['updated1']=df['correct'].astype(str).apply(lambda x: x.split('/')).apply(s.stem)"
   ]
  },
  {
   "cell_type": "code",
   "execution_count": null,
   "metadata": {},
   "outputs": [],
   "source": []
  },
  {
   "cell_type": "code",
   "execution_count": 6,
   "metadata": {},
   "outputs": [],
   "source": [
    "mylist=list()\n",
    "mylist1=list()\n",
    "for i, rows in df.iterrows():\n",
    "    mylist.append(edit_distance(rows['updated'][0], rows['updated1'][0] , substitution_cost=1, transpositions=True))\n",
    "    mylist1.append(edit_distance(str(rows['wrong']), str(rows['correct']), substitution_cost=1, transpositions=True))\n"
   ]
  },
  {
   "cell_type": "code",
   "execution_count": 7,
   "metadata": {},
   "outputs": [],
   "source": [
    "df['edu1'] = mylist\n",
    "df['wc'] = mylist1"
   ]
  },
  {
   "cell_type": "code",
   "execution_count": 8,
   "metadata": {},
   "outputs": [],
   "source": [
    "#pd.concat([df.edu1.value_counts(), df.wc.value_counts()], axis=1)"
   ]
  },
  {
   "cell_type": "code",
   "execution_count": 10,
   "metadata": {},
   "outputs": [],
   "source": [
    "df['tally']=df.wrong.str[:1] == df.correct.str[:1]"
   ]
  },
  {
   "cell_type": "code",
   "execution_count": 11,
   "metadata": {},
   "outputs": [],
   "source": [
    "df['diff'] = df['wc'] - df['edu1']"
   ]
  },
  {
   "cell_type": "code",
   "execution_count": 23,
   "metadata": {},
   "outputs": [],
   "source": [
    "ndf=df[~((df['edu1'] > 3) & (df['wc'] > 5) & (df['tally'] == 0) & (df['diff'] < 4) )]"
   ]
  },
  {
   "cell_type": "code",
   "execution_count": 24,
   "metadata": {},
   "outputs": [
    {
     "name": "stderr",
     "output_type": "stream",
     "text": [
      "/opt/conda/lib/python3.7/site-packages/ipykernel_launcher.py:1: UserWarning: Boolean Series key will be reindexed to match DataFrame index.\n",
      "  \"\"\"Entry point for launching an IPython kernel.\n"
     ]
    }
   ],
   "source": [
    "ndf=ndf[~( ((ndf['edu1'] > 3)  | (ndf['wc'] > 3) ) &  (df['tally'] == 0)  )]"
   ]
  },
  {
   "cell_type": "code",
   "execution_count": 25,
   "metadata": {},
   "outputs": [],
   "source": [
    "#ndf=ndf[np.logical_and((ndf['edu1'] > 3) , (ndf['wc'] > 5))]"
   ]
  },
  {
   "cell_type": "code",
   "execution_count": 26,
   "metadata": {},
   "outputs": [],
   "source": [
    "#ndf=ndf[np.logical_and(np.logical_and((ndf['edu1'] > 3) , (ndf['wc'] > 5)),  (ndf['tally'] == 0 ))]"
   ]
  },
  {
   "cell_type": "code",
   "execution_count": 31,
   "metadata": {},
   "outputs": [],
   "source": [
    "#ndf['ulen'] = ndf['updated'].str[0].apply(len)\n",
    "#ndf = ndf.sort_values('ulen')"
   ]
  },
  {
   "cell_type": "code",
   "execution_count": 32,
   "metadata": {},
   "outputs": [],
   "source": [
    "ndf.to_excel('to_study1.xlsx')"
   ]
  },
  {
   "cell_type": "code",
   "execution_count": 22,
   "metadata": {},
   "outputs": [
    {
     "ename": "SyntaxError",
     "evalue": "invalid syntax (<ipython-input-22-3ef470a3d0aa>, line 1)",
     "output_type": "error",
     "traceback": [
      "\u001b[0;36m  File \u001b[0;32m\"<ipython-input-22-3ef470a3d0aa>\"\u001b[0;36m, line \u001b[0;32m1\u001b[0m\n\u001b[0;31m    break here\u001b[0m\n\u001b[0m             ^\u001b[0m\n\u001b[0;31mSyntaxError\u001b[0m\u001b[0;31m:\u001b[0m invalid syntax\n"
     ]
    }
   ],
   "source": [
    "#break here"
   ]
  },
  {
   "cell_type": "markdown",
   "metadata": {},
   "source": [
    "# compare names from 2 dataframes"
   ]
  },
  {
   "cell_type": "code",
   "execution_count": null,
   "metadata": {},
   "outputs": [],
   "source": [
    "from io import StringIO\n",
    "\n",
    "myst=\"\"\"shantanu prabhakar oka, 905034 , 19:44   \n",
    "sammeer annashaaheb goankar, 905094  , 19:33\n",
    "paravatibai vittal shelke,  905154 ,   21:56\n",
    "\"\"\"\n",
    "u_cols=['name', 'my_index', 'current_tm']\n",
    "\n",
    "myf = StringIO(myst)\n",
    "import pandas as pd\n",
    "df = pd.read_csv(StringIO(myst), sep=',', names = u_cols)"
   ]
  },
  {
   "cell_type": "code",
   "execution_count": null,
   "metadata": {},
   "outputs": [],
   "source": [
    "myst=\"\"\"shantanu34 prabakar oka, 905034 , 19:44   \n",
    "sammir anashaheb goankar, 905094  , 19:33\n",
    "parwati vithal bholke,  905154 ,   21:56\n",
    " anashaheb samir gavkar, 905094  , 19:33\n",
    "\n",
    "\"\"\"\n",
    "u_cols=['name', 'my_index', 'current_tm']\n",
    "\n",
    "myf = StringIO(myst)\n",
    "import pandas as pd\n",
    "df1 = pd.read_csv(StringIO(myst), sep=',', names = u_cols)"
   ]
  },
  {
   "cell_type": "code",
   "execution_count": null,
   "metadata": {},
   "outputs": [],
   "source": [
    "df['updated']=df['name'].astype(str).apply(lambda x: x.split()).apply(s.stem).apply(sorted).apply(tuple)\n",
    "df1['updated1']=df1['name'].astype(str).apply(lambda x: x.split()).apply(s.stem).apply(sorted).apply(tuple)"
   ]
  },
  {
   "cell_type": "code",
   "execution_count": null,
   "metadata": {},
   "outputs": [],
   "source": [
    "df1"
   ]
  },
  {
   "cell_type": "code",
   "execution_count": null,
   "metadata": {},
   "outputs": [],
   "source": [
    "df"
   ]
  },
  {
   "cell_type": "code",
   "execution_count": null,
   "metadata": {},
   "outputs": [],
   "source": [
    "df.merge(df1, how='outer', left_on=['updated'], right_on=['updated1'], indicator=True)"
   ]
  },
  {
   "cell_type": "code",
   "execution_count": null,
   "metadata": {},
   "outputs": [],
   "source": [
    "mylist=list()\n",
    "for i, rows in df.iterrows():\n",
    "        for i1, rows1 in df1.iterrows():\n",
    "            #mylist.append(edit_distance(rows['updated'], rows1['updated1'], substitution_cost=2))\n",
    "            #print (rows['updated'], rows1['updated1'], edit_distance(rows['updated'], rows1['updated1'], substitution_cost=2))\n",
    "            s1, s2 = rows['updated'], rows1['updated1']  \n",
    "            final=list()\n",
    "            for i in s1:\n",
    "                mylisti=list()\n",
    "                for k in s2:\n",
    "                    mylisti.append(edit_distance(i, k, transpositions=True))\n",
    "                final.append(min(mylisti))\n",
    "            mylist.append(sum(final))\n",
    "            \n",
    "            "
   ]
  },
  {
   "cell_type": "code",
   "execution_count": null,
   "metadata": {},
   "outputs": [],
   "source": [
    "mylist"
   ]
  },
  {
   "cell_type": "code",
   "execution_count": null,
   "metadata": {},
   "outputs": [],
   "source": [
    "fdf = pd.merge(df.assign(key=0), df1.assign(key=0), on='key').drop('key', axis=1)"
   ]
  },
  {
   "cell_type": "code",
   "execution_count": null,
   "metadata": {},
   "outputs": [],
   "source": [
    "fdf['eud'] = mylist"
   ]
  },
  {
   "cell_type": "code",
   "execution_count": null,
   "metadata": {},
   "outputs": [],
   "source": [
    "fdf"
   ]
  },
  {
   "cell_type": "code",
   "execution_count": null,
   "metadata": {},
   "outputs": [],
   "source": [
    "gdf=fdf.groupby(['name_x'])['eud'].min()"
   ]
  },
  {
   "cell_type": "code",
   "execution_count": null,
   "metadata": {},
   "outputs": [],
   "source": [
    "gdf=gdf.reset_index()"
   ]
  },
  {
   "cell_type": "code",
   "execution_count": null,
   "metadata": {},
   "outputs": [],
   "source": [
    "gdf"
   ]
  },
  {
   "cell_type": "code",
   "execution_count": null,
   "metadata": {},
   "outputs": [],
   "source": [
    "gdf.merge(fdf, how='left', left_on=['name_x', 'eud'], right_on=['name_x', 'eud'])"
   ]
  }
 ],
 "metadata": {
  "kernelspec": {
   "display_name": "Python 3",
   "language": "python",
   "name": "python3"
  },
  "language_info": {
   "codemirror_mode": {
    "name": "ipython",
    "version": 3
   },
   "file_extension": ".py",
   "mimetype": "text/x-python",
   "name": "python",
   "nbconvert_exporter": "python",
   "pygments_lexer": "ipython3",
   "version": "3.7.0"
  }
 },
 "nbformat": 4,
 "nbformat_minor": 2
}
